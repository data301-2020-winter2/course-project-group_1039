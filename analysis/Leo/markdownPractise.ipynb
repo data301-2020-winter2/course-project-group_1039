{
 "cells": [
  {
   "cell_type": "markdown",
   "metadata": {},
   "source": [
    "# **Markdown Practise** \n",
    "\n",
    "I am a 2nd year **computer science** major at UBCO. My goal once I am done with my Bachelor degree is to go onto a masters and eventually a PHD in **artificial Intelligence**.\n",
    "\n",
    "*My hobbies:*\n",
    "- In the winter, I love snowboarding at Big white, revelstoke and whistler\n",
    "- In the summer, I love surfing and wakeboarding \n",
    "- I also love playing basketball and soccer throughout the year\n",
    "\n",
    "My latest coding project involved developing a [website](https://trendscatchers.io/) for Trendscatchers inc. \n"
   ]
  }
 ],
 "metadata": {
  "kernelspec": {
   "display_name": "Python 3",
   "language": "python",
   "name": "python3"
  },
  "language_info": {
   "codemirror_mode": {
    "name": "ipython",
    "version": 3
   },
   "file_extension": ".py",
   "mimetype": "text/x-python",
   "name": "python",
   "nbconvert_exporter": "python",
   "pygments_lexer": "ipython3",
   "version": "3.8.5"
  }
 },
 "nbformat": 4,
 "nbformat_minor": 4
}
